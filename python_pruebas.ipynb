{
 "cells": [
  {
   "attachments": {},
   "cell_type": "markdown",
   "metadata": {},
   "source": [
    "# Invierte cadenas\n",
    "este codigo nos ayuda a invertir el orden de los bits de entrada dados, que seran reutilizados un un display de 7 segmentos"
   ]
  },
  {
   "cell_type": "code",
   "execution_count": 6,
   "metadata": {},
   "outputs": [
    {
     "data": {
      "text/plain": [
       "'0010000'"
      ]
     },
     "execution_count": 6,
     "metadata": {},
     "output_type": "execute_result"
    }
   ],
   "source": [
    "def invertir_cadena(cadena):\n",
    "    return cadena[::-1]\n",
    "\n",
    "\n",
    "invertir_cadena('0000100')"
   ]
  }
 ],
 "metadata": {
  "kernelspec": {
   "display_name": "Python 3",
   "language": "python",
   "name": "python3"
  },
  "language_info": {
   "codemirror_mode": {
    "name": "ipython",
    "version": 3
   },
   "file_extension": ".py",
   "mimetype": "text/x-python",
   "name": "python",
   "nbconvert_exporter": "python",
   "pygments_lexer": "ipython3",
   "version": "3.10.4"
  },
  "orig_nbformat": 4,
  "vscode": {
   "interpreter": {
    "hash": "3352280b4ffd427f2a5be7ee59ac4189f82e1545388b246e2f04edabf7e2f6ab"
   }
  }
 },
 "nbformat": 4,
 "nbformat_minor": 2
}
